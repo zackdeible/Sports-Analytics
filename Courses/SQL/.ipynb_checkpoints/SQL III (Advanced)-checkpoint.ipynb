{
 "cells": [
  {
   "cell_type": "code",
   "execution_count": 1,
   "metadata": {},
   "outputs": [],
   "source": [
    "import mysql.connector\n",
    "from mysql.connector import Error\n",
    "\n",
    "\n",
    "#### CONNECT TO GOOGLE CLOUD MYSQL\n",
    "config = {\n",
    "    'user': 'root',\n",
    "    'password': 'txybkx5kPMpko8C6',\n",
    "    'host': '35.238.14.103', \n",
    "    'database': 'ddx_db'\n",
    "}\n",
    "cnxn = mysql.connector.connect(**config)\n",
    "\n",
    "#### BASIC QUERY FUNCTIONS\n",
    "\n",
    "# Read query, something like a select\n",
    "def read_query(connection, query):\n",
    "    cursor = connection.cursor()\n",
    "    result = None\n",
    "    try:\n",
    "        cursor.execute(query)\n",
    "        result = cursor.fetchall()\n",
    "        return result\n",
    "    except Error as err:\n",
    "        print(f\"Error: '{err}'\")\n",
    "        \n",
    "### HELPER FUNCTIONS\n",
    "\n",
    "# Input: list from query, col names\n",
    "def list_to_df(ls, cols):\n",
    "    return pd.DataFrame(ls, columns=cols)\n",
    "    \n"
   ]
  },
  {
   "cell_type": "code",
   "execution_count": null,
   "metadata": {},
   "outputs": [],
   "source": [
    "## Trend Analysis\n",
    "\n",
    "\n",
    "# last 10 games of the Lakers showing: Home Team, Away Team, Home Score, Away Score, Spread, Money Lines, Over/Under\n",
    "\n",
    "# Figure out the against the spread record, overs hit, and unders hit for the lakers\n",
    "\n",
    "# Lakers last 10 games record, average offensive rating, average defensive rating, and average points\n",
    "\n",
    "# Lakers full season games record, average offensive rating, average defensive rating, and average points\n",
    "\n",
    "# Lakers players last 10 games points, assists, and rebounds\n",
    "\n",
    "# Lakers players average points, assists, and rebounds for full season\n",
    "\n",
    "\n",
    "# Top 10 teams against the spread (show the record)\n",
    "\n",
    "# Top 10 teams for unders hitting \n",
    "\n",
    "# Top 10 teams for overs hitting\n",
    "\n",
    "\n",
    "# Amount of wins per team when they were an underdog (money line will be + something)\n",
    "\n"
   ]
  }
 ],
 "metadata": {
  "kernelspec": {
   "display_name": "Python 3",
   "language": "python",
   "name": "python3"
  },
  "language_info": {
   "codemirror_mode": {
    "name": "ipython",
    "version": 3
   },
   "file_extension": ".py",
   "mimetype": "text/x-python",
   "name": "python",
   "nbconvert_exporter": "python",
   "pygments_lexer": "ipython3",
   "version": "3.8.3"
  }
 },
 "nbformat": 4,
 "nbformat_minor": 4
}
