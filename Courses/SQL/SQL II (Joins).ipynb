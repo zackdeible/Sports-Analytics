{
 "cells": [
  {
   "cell_type": "code",
   "execution_count": 1,
   "metadata": {},
   "outputs": [],
   "source": [
    "import mysql.connector\n",
    "from mysql.connector import Error\n",
    "\n",
    "\n",
    "#### CONNECT TO GOOGLE CLOUD MYSQL\n",
    "config = {\n",
    "    'user': 'root',\n",
    "    'password': 'txybkx5kPMpko8C6',\n",
    "    'host': '35.238.14.103', \n",
    "    'database': 'ddx_db'\n",
    "}\n",
    "cnxn = mysql.connector.connect(**config)\n",
    "\n",
    "#### BASIC QUERY FUNCTIONS\n",
    "\n",
    "# Read query, something like a select\n",
    "def read_query(connection, query):\n",
    "    cursor = connection.cursor()\n",
    "    result = None\n",
    "    try:\n",
    "        cursor.execute(query)\n",
    "        result = cursor.fetchall()\n",
    "        return result\n",
    "    except Error as err:\n",
    "        print(f\"Error: '{err}'\")\n",
    "        \n",
    "### HELPER FUNCTIONS\n",
    "\n",
    "# Input: list from query, col names\n",
    "def list_to_df(ls, cols):\n",
    "    return pd.DataFrame(ls, columns=cols)\n",
    "    \n"
   ]
  },
  {
   "cell_type": "code",
   "execution_count": 2,
   "metadata": {},
   "outputs": [],
   "source": [
    "# Multiple Tables\n",
    "\n",
    "# What happens when we want to figure out the average points each team gives up in a game? - need a join \n",
    "\n",
    "\n"
   ]
  },
  {
   "cell_type": "code",
   "execution_count": 3,
   "metadata": {},
   "outputs": [],
   "source": [
    "## Join matchups table to teams table to show full team name and city of both teams in a matchup\n",
    "\n",
    "\n"
   ]
  },
  {
   "cell_type": "code",
   "execution_count": null,
   "metadata": {},
   "outputs": [],
   "source": [
    "# What team gives up most assists every game?\n"
   ]
  }
 ],
 "metadata": {
  "kernelspec": {
   "display_name": "Python 3",
   "language": "python",
   "name": "python3"
  },
  "language_info": {
   "codemirror_mode": {
    "name": "ipython",
    "version": 3
   },
   "file_extension": ".py",
   "mimetype": "text/x-python",
   "name": "python",
   "nbconvert_exporter": "python",
   "pygments_lexer": "ipython3",
   "version": "3.8.3"
  }
 },
 "nbformat": 4,
 "nbformat_minor": 4
}
