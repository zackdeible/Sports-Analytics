{
 "cells": [
  {
   "cell_type": "code",
   "execution_count": 1,
   "metadata": {},
   "outputs": [],
   "source": [
    "import mysql.connector\n",
    "from mysql.connector import Error\n",
    "\n",
    "\n",
    "#### CONNECT TO GOOGLE CLOUD MYSQL\n",
    "config = {\n",
    "    'user': 'root',\n",
    "    'password': 'txybkx5kPMpko8C6',\n",
    "    'host': '35.238.14.103', \n",
    "    'database': 'ddx_db'\n",
    "}\n",
    "cnxn = mysql.connector.connect(**config)\n",
    "\n",
    "#### BASIC QUERY FUNCTIONS\n",
    "\n",
    "# Read query, something like a select\n",
    "def read_query(connection, query):\n",
    "    cursor = connection.cursor()\n",
    "    result = None\n",
    "    try:\n",
    "        cursor.execute(query)\n",
    "        result = cursor.fetchall()\n",
    "        return result\n",
    "    except Error as err:\n",
    "        print(f\"Error: '{err}'\")\n",
    "        \n",
    "### HELPER FUNCTIONS\n",
    "\n",
    "# Input: list from query, col names\n",
    "def list_to_df(ls, cols):\n",
    "    return pd.DataFrame(ls, columns=cols)\n",
    "    \n"
   ]
  },
  {
   "cell_type": "code",
   "execution_count": null,
   "metadata": {},
   "outputs": [],
   "source": [
    "#Query NBA Game Data to get dataset\n",
    "import pandas as pd\n",
    "\n",
    "q1 = \"\"\"\n",
    "SELECT * FROM nba_game_data;\n",
    "\"\"\"\n",
    "\n",
    "nba_game_data = read_query(cnxn, q1)\n",
    "#print(nba_game_data)\n",
    "cols = box_stats = ['id', 'gid', 'team', 'fg', 'fga', 'fg_pct', 'fg3', 'fg3a', 'fg3_pct', 'ft', 'fta', 'ft_pct', 'orb', 'drb', 'trb', 'ast', 'stl', 'blk', 'tov', 'pf', 'ts_pct', 'efg_pct', 'fg3a_per_fga_pct', 'fta_per_fga_pct', 'orb_pct', 'drb_pct', 'trb_pct', 'ast_pct', 'stl_pct', 'blk_pct', 'tov_pct', 'off_rtg', 'def_rtg', 'pts', 'date']\n",
    "ngd_df = pd.DataFrame(nba_game_data, columns=cols)\n",
    "\n",
    "print(ngd_df.columns)\n",
    "ngd_df.head()"
   ]
  }
 ],
 "metadata": {
  "kernelspec": {
   "display_name": "Python 3",
   "language": "python",
   "name": "python3"
  },
  "language_info": {
   "codemirror_mode": {
    "name": "ipython",
    "version": 3
   },
   "file_extension": ".py",
   "mimetype": "text/x-python",
   "name": "python",
   "nbconvert_exporter": "python",
   "pygments_lexer": "ipython3",
   "version": "3.8.3"
  }
 },
 "nbformat": 4,
 "nbformat_minor": 4
}
